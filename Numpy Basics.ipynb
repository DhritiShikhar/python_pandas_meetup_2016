{
 "cells": [
  {
   "cell_type": "markdown",
   "metadata": {},
   "source": [
    "#Datasets\n",
    "ufo = 'http://bit.ly/uforeports'\n",
    "chipotle = 'http://bit.ly/chiporders'\n",
    "chipotle = 'http://bit.ly/imdbratings'"
   ]
  },
  {
   "cell_type": "markdown",
   "metadata": {},
   "source": [
    "# Numpy Basics"
   ]
  },
  {
   "cell_type": "markdown",
   "metadata": {},
   "source": [
    "## ndarray"
   ]
  },
  {
   "cell_type": "code",
   "execution_count": 1,
   "metadata": {
    "collapsed": true
   },
   "outputs": [],
   "source": [
    "import numpy as np"
   ]
  },
  {
   "cell_type": "code",
   "execution_count": 2,
   "metadata": {
    "collapsed": false
   },
   "outputs": [
    {
     "data": {
      "text/plain": [
       "array([0, 1, 2, 3, 4, 5, 6, 7, 8, 9])"
      ]
     },
     "execution_count": 2,
     "metadata": {},
     "output_type": "execute_result"
    }
   ],
   "source": [
    "np.arange(10)"
   ]
  },
  {
   "cell_type": "code",
   "execution_count": 4,
   "metadata": {
    "collapsed": false
   },
   "outputs": [
    {
     "data": {
      "text/plain": [
       "numpy.ndarray"
      ]
     },
     "execution_count": 4,
     "metadata": {},
     "output_type": "execute_result"
    }
   ],
   "source": [
    "type(np.arange(10))"
   ]
  },
  {
   "cell_type": "code",
   "execution_count": 5,
   "metadata": {
    "collapsed": false
   },
   "outputs": [
    {
     "data": {
      "text/plain": [
       "array([1, 2, 3, 4, 5, 6, 7, 8, 9])"
      ]
     },
     "execution_count": 5,
     "metadata": {},
     "output_type": "execute_result"
    }
   ],
   "source": [
    "np.arange(1,10)"
   ]
  },
  {
   "cell_type": "code",
   "execution_count": 7,
   "metadata": {
    "collapsed": false
   },
   "outputs": [
    {
     "data": {
      "text/plain": [
       "array([ 1.,  2.,  3.,  4.,  5.,  6.,  7.,  8.,  9.])"
      ]
     },
     "execution_count": 7,
     "metadata": {},
     "output_type": "execute_result"
    }
   ],
   "source": [
    "np.arange(1,10,dtype=np.float64)"
   ]
  },
  {
   "cell_type": "code",
   "execution_count": 8,
   "metadata": {
    "collapsed": true
   },
   "outputs": [],
   "source": [
    "l1 = [1,2,3,'a','b',5.5]"
   ]
  },
  {
   "cell_type": "code",
   "execution_count": 9,
   "metadata": {
    "collapsed": true
   },
   "outputs": [],
   "source": [
    "my_array = np.array(l1)"
   ]
  },
  {
   "cell_type": "code",
   "execution_count": 10,
   "metadata": {
    "collapsed": false
   },
   "outputs": [
    {
     "data": {
      "text/plain": [
       "array(['1', '2', '3', 'a', 'b', '5.5'], \n",
       "      dtype='|S11')"
      ]
     },
     "execution_count": 10,
     "metadata": {},
     "output_type": "execute_result"
    }
   ],
   "source": [
    "my_array"
   ]
  },
  {
   "cell_type": "code",
   "execution_count": 15,
   "metadata": {
    "collapsed": true
   },
   "outputs": [],
   "source": [
    "my_array = np.arange(10)"
   ]
  },
  {
   "cell_type": "code",
   "execution_count": 16,
   "metadata": {
    "collapsed": false
   },
   "outputs": [
    {
     "data": {
      "text/plain": [
       "dtype('int32')"
      ]
     },
     "execution_count": 16,
     "metadata": {},
     "output_type": "execute_result"
    }
   ],
   "source": [
    "my_array.dtype"
   ]
  },
  {
   "cell_type": "code",
   "execution_count": 17,
   "metadata": {
    "collapsed": false
   },
   "outputs": [
    {
     "data": {
      "text/plain": [
       "1"
      ]
     },
     "execution_count": 17,
     "metadata": {},
     "output_type": "execute_result"
    }
   ],
   "source": [
    "my_array.ndim"
   ]
  },
  {
   "cell_type": "code",
   "execution_count": 18,
   "metadata": {
    "collapsed": false
   },
   "outputs": [
    {
     "data": {
      "text/plain": [
       "(10L,)"
      ]
     },
     "execution_count": 18,
     "metadata": {},
     "output_type": "execute_result"
    }
   ],
   "source": [
    "my_array.shape"
   ]
  },
  {
   "cell_type": "code",
   "execution_count": 19,
   "metadata": {
    "collapsed": false
   },
   "outputs": [
    {
     "data": {
      "text/plain": [
       "4"
      ]
     },
     "execution_count": 19,
     "metadata": {},
     "output_type": "execute_result"
    }
   ],
   "source": [
    "my_array.itemsize"
   ]
  },
  {
   "cell_type": "markdown",
   "metadata": {
    "collapsed": true
   },
   "source": [
    "## Why use Numpy ?"
   ]
  },
  {
   "cell_type": "code",
   "execution_count": 27,
   "metadata": {
    "collapsed": false
   },
   "outputs": [
    {
     "name": "stdout",
     "output_type": "stream",
     "text": [
      "1 loop, best of 3: 182 ms per loop\n"
     ]
    }
   ],
   "source": [
    "%%timeit\n",
    "\n",
    "list1 = range(10000000)"
   ]
  },
  {
   "cell_type": "code",
   "execution_count": 28,
   "metadata": {
    "collapsed": false
   },
   "outputs": [
    {
     "name": "stdout",
     "output_type": "stream",
     "text": [
      "10 loops, best of 3: 26.1 ms per loop\n"
     ]
    }
   ],
   "source": [
    "%%timeit\n",
    "list1 = np.arange(10000000)"
   ]
  },
  {
   "cell_type": "markdown",
   "metadata": {
    "collapsed": true
   },
   "source": [
    "## Basic Operations"
   ]
  },
  {
   "cell_type": "code",
   "execution_count": 40,
   "metadata": {
    "collapsed": true
   },
   "outputs": [],
   "source": [
    "python_list_1 = range(1,1000)\n",
    "python_list_2 = range(1,1000)\n",
    "\n",
    "\n",
    "numpy_list_1 = np.arange(1,1000)\n",
    "numpy_list_2 = np.arange(1,1000)"
   ]
  },
  {
   "cell_type": "code",
   "execution_count": 41,
   "metadata": {
    "collapsed": false
   },
   "outputs": [],
   "source": [
    "%%capture timeit_python\n",
    "%%timeit\n",
    "\n",
    "[x + y for x, y in zip(python_list_1,python_list_2)]\n",
    "[x - y for x, y in zip(python_list_1,python_list_2)]\n",
    "[x * y for x, y in zip(python_list_1,python_list_2)]\n",
    "[x / y for x, y in zip(python_list_1,python_list_2)]"
   ]
  },
  {
   "cell_type": "code",
   "execution_count": 42,
   "metadata": {
    "collapsed": false
   },
   "outputs": [
    {
     "name": "stdout",
     "output_type": "stream",
     "text": [
      "1000 loops, best of 3: 1.02 ms per loop\n",
      "\n"
     ]
    }
   ],
   "source": [
    "print timeit_python"
   ]
  },
  {
   "cell_type": "code",
   "execution_count": 38,
   "metadata": {
    "collapsed": true
   },
   "outputs": [],
   "source": [
    "%%capture timeit_python\n",
    "%%timeit\n",
    "\n",
    "numpy_list_1 + numpy_list_2\n",
    "numpy_list_1 - numpy_list_2\n",
    "numpy_list_1 * numpy_list_2\n",
    "numpy_list_1 / numpy_list_2"
   ]
  },
  {
   "cell_type": "code",
   "execution_count": 39,
   "metadata": {
    "collapsed": false
   },
   "outputs": [
    {
     "name": "stdout",
     "output_type": "stream",
     "text": [
      "10000 loops, best of 3: 22.3 us per loop\n",
      "\n"
     ]
    }
   ],
   "source": [
    "print timeit_python"
   ]
  },
  {
   "cell_type": "code",
   "execution_count": 43,
   "metadata": {
    "collapsed": false
   },
   "outputs": [
    {
     "data": {
      "text/plain": [
       "array([   2,    4,    6,    8,   10,   12,   14,   16,   18,   20,   22,\n",
       "         24,   26,   28,   30,   32,   34,   36,   38,   40,   42,   44,\n",
       "         46,   48,   50,   52,   54,   56,   58,   60,   62,   64,   66,\n",
       "         68,   70,   72,   74,   76,   78,   80,   82,   84,   86,   88,\n",
       "         90,   92,   94,   96,   98,  100,  102,  104,  106,  108,  110,\n",
       "        112,  114,  116,  118,  120,  122,  124,  126,  128,  130,  132,\n",
       "        134,  136,  138,  140,  142,  144,  146,  148,  150,  152,  154,\n",
       "        156,  158,  160,  162,  164,  166,  168,  170,  172,  174,  176,\n",
       "        178,  180,  182,  184,  186,  188,  190,  192,  194,  196,  198,\n",
       "        200,  202,  204,  206,  208,  210,  212,  214,  216,  218,  220,\n",
       "        222,  224,  226,  228,  230,  232,  234,  236,  238,  240,  242,\n",
       "        244,  246,  248,  250,  252,  254,  256,  258,  260,  262,  264,\n",
       "        266,  268,  270,  272,  274,  276,  278,  280,  282,  284,  286,\n",
       "        288,  290,  292,  294,  296,  298,  300,  302,  304,  306,  308,\n",
       "        310,  312,  314,  316,  318,  320,  322,  324,  326,  328,  330,\n",
       "        332,  334,  336,  338,  340,  342,  344,  346,  348,  350,  352,\n",
       "        354,  356,  358,  360,  362,  364,  366,  368,  370,  372,  374,\n",
       "        376,  378,  380,  382,  384,  386,  388,  390,  392,  394,  396,\n",
       "        398,  400,  402,  404,  406,  408,  410,  412,  414,  416,  418,\n",
       "        420,  422,  424,  426,  428,  430,  432,  434,  436,  438,  440,\n",
       "        442,  444,  446,  448,  450,  452,  454,  456,  458,  460,  462,\n",
       "        464,  466,  468,  470,  472,  474,  476,  478,  480,  482,  484,\n",
       "        486,  488,  490,  492,  494,  496,  498,  500,  502,  504,  506,\n",
       "        508,  510,  512,  514,  516,  518,  520,  522,  524,  526,  528,\n",
       "        530,  532,  534,  536,  538,  540,  542,  544,  546,  548,  550,\n",
       "        552,  554,  556,  558,  560,  562,  564,  566,  568,  570,  572,\n",
       "        574,  576,  578,  580,  582,  584,  586,  588,  590,  592,  594,\n",
       "        596,  598,  600,  602,  604,  606,  608,  610,  612,  614,  616,\n",
       "        618,  620,  622,  624,  626,  628,  630,  632,  634,  636,  638,\n",
       "        640,  642,  644,  646,  648,  650,  652,  654,  656,  658,  660,\n",
       "        662,  664,  666,  668,  670,  672,  674,  676,  678,  680,  682,\n",
       "        684,  686,  688,  690,  692,  694,  696,  698,  700,  702,  704,\n",
       "        706,  708,  710,  712,  714,  716,  718,  720,  722,  724,  726,\n",
       "        728,  730,  732,  734,  736,  738,  740,  742,  744,  746,  748,\n",
       "        750,  752,  754,  756,  758,  760,  762,  764,  766,  768,  770,\n",
       "        772,  774,  776,  778,  780,  782,  784,  786,  788,  790,  792,\n",
       "        794,  796,  798,  800,  802,  804,  806,  808,  810,  812,  814,\n",
       "        816,  818,  820,  822,  824,  826,  828,  830,  832,  834,  836,\n",
       "        838,  840,  842,  844,  846,  848,  850,  852,  854,  856,  858,\n",
       "        860,  862,  864,  866,  868,  870,  872,  874,  876,  878,  880,\n",
       "        882,  884,  886,  888,  890,  892,  894,  896,  898,  900,  902,\n",
       "        904,  906,  908,  910,  912,  914,  916,  918,  920,  922,  924,\n",
       "        926,  928,  930,  932,  934,  936,  938,  940,  942,  944,  946,\n",
       "        948,  950,  952,  954,  956,  958,  960,  962,  964,  966,  968,\n",
       "        970,  972,  974,  976,  978,  980,  982,  984,  986,  988,  990,\n",
       "        992,  994,  996,  998, 1000, 1002, 1004, 1006, 1008, 1010, 1012,\n",
       "       1014, 1016, 1018, 1020, 1022, 1024, 1026, 1028, 1030, 1032, 1034,\n",
       "       1036, 1038, 1040, 1042, 1044, 1046, 1048, 1050, 1052, 1054, 1056,\n",
       "       1058, 1060, 1062, 1064, 1066, 1068, 1070, 1072, 1074, 1076, 1078,\n",
       "       1080, 1082, 1084, 1086, 1088, 1090, 1092, 1094, 1096, 1098, 1100,\n",
       "       1102, 1104, 1106, 1108, 1110, 1112, 1114, 1116, 1118, 1120, 1122,\n",
       "       1124, 1126, 1128, 1130, 1132, 1134, 1136, 1138, 1140, 1142, 1144,\n",
       "       1146, 1148, 1150, 1152, 1154, 1156, 1158, 1160, 1162, 1164, 1166,\n",
       "       1168, 1170, 1172, 1174, 1176, 1178, 1180, 1182, 1184, 1186, 1188,\n",
       "       1190, 1192, 1194, 1196, 1198, 1200, 1202, 1204, 1206, 1208, 1210,\n",
       "       1212, 1214, 1216, 1218, 1220, 1222, 1224, 1226, 1228, 1230, 1232,\n",
       "       1234, 1236, 1238, 1240, 1242, 1244, 1246, 1248, 1250, 1252, 1254,\n",
       "       1256, 1258, 1260, 1262, 1264, 1266, 1268, 1270, 1272, 1274, 1276,\n",
       "       1278, 1280, 1282, 1284, 1286, 1288, 1290, 1292, 1294, 1296, 1298,\n",
       "       1300, 1302, 1304, 1306, 1308, 1310, 1312, 1314, 1316, 1318, 1320,\n",
       "       1322, 1324, 1326, 1328, 1330, 1332, 1334, 1336, 1338, 1340, 1342,\n",
       "       1344, 1346, 1348, 1350, 1352, 1354, 1356, 1358, 1360, 1362, 1364,\n",
       "       1366, 1368, 1370, 1372, 1374, 1376, 1378, 1380, 1382, 1384, 1386,\n",
       "       1388, 1390, 1392, 1394, 1396, 1398, 1400, 1402, 1404, 1406, 1408,\n",
       "       1410, 1412, 1414, 1416, 1418, 1420, 1422, 1424, 1426, 1428, 1430,\n",
       "       1432, 1434, 1436, 1438, 1440, 1442, 1444, 1446, 1448, 1450, 1452,\n",
       "       1454, 1456, 1458, 1460, 1462, 1464, 1466, 1468, 1470, 1472, 1474,\n",
       "       1476, 1478, 1480, 1482, 1484, 1486, 1488, 1490, 1492, 1494, 1496,\n",
       "       1498, 1500, 1502, 1504, 1506, 1508, 1510, 1512, 1514, 1516, 1518,\n",
       "       1520, 1522, 1524, 1526, 1528, 1530, 1532, 1534, 1536, 1538, 1540,\n",
       "       1542, 1544, 1546, 1548, 1550, 1552, 1554, 1556, 1558, 1560, 1562,\n",
       "       1564, 1566, 1568, 1570, 1572, 1574, 1576, 1578, 1580, 1582, 1584,\n",
       "       1586, 1588, 1590, 1592, 1594, 1596, 1598, 1600, 1602, 1604, 1606,\n",
       "       1608, 1610, 1612, 1614, 1616, 1618, 1620, 1622, 1624, 1626, 1628,\n",
       "       1630, 1632, 1634, 1636, 1638, 1640, 1642, 1644, 1646, 1648, 1650,\n",
       "       1652, 1654, 1656, 1658, 1660, 1662, 1664, 1666, 1668, 1670, 1672,\n",
       "       1674, 1676, 1678, 1680, 1682, 1684, 1686, 1688, 1690, 1692, 1694,\n",
       "       1696, 1698, 1700, 1702, 1704, 1706, 1708, 1710, 1712, 1714, 1716,\n",
       "       1718, 1720, 1722, 1724, 1726, 1728, 1730, 1732, 1734, 1736, 1738,\n",
       "       1740, 1742, 1744, 1746, 1748, 1750, 1752, 1754, 1756, 1758, 1760,\n",
       "       1762, 1764, 1766, 1768, 1770, 1772, 1774, 1776, 1778, 1780, 1782,\n",
       "       1784, 1786, 1788, 1790, 1792, 1794, 1796, 1798, 1800, 1802, 1804,\n",
       "       1806, 1808, 1810, 1812, 1814, 1816, 1818, 1820, 1822, 1824, 1826,\n",
       "       1828, 1830, 1832, 1834, 1836, 1838, 1840, 1842, 1844, 1846, 1848,\n",
       "       1850, 1852, 1854, 1856, 1858, 1860, 1862, 1864, 1866, 1868, 1870,\n",
       "       1872, 1874, 1876, 1878, 1880, 1882, 1884, 1886, 1888, 1890, 1892,\n",
       "       1894, 1896, 1898, 1900, 1902, 1904, 1906, 1908, 1910, 1912, 1914,\n",
       "       1916, 1918, 1920, 1922, 1924, 1926, 1928, 1930, 1932, 1934, 1936,\n",
       "       1938, 1940, 1942, 1944, 1946, 1948, 1950, 1952, 1954, 1956, 1958,\n",
       "       1960, 1962, 1964, 1966, 1968, 1970, 1972, 1974, 1976, 1978, 1980,\n",
       "       1982, 1984, 1986, 1988, 1990, 1992, 1994, 1996, 1998])"
      ]
     },
     "execution_count": 43,
     "metadata": {},
     "output_type": "execute_result"
    }
   ],
   "source": [
    "numpy_list_1 + numpy_list_2"
   ]
  },
  {
   "cell_type": "code",
   "execution_count": 58,
   "metadata": {
    "collapsed": false
   },
   "outputs": [],
   "source": [
    "#multi Dimensional Array\n",
    "\n",
    "n1 = np.array([[ 1,  2,  3,  4,  5],\n",
    "       [ 6,  7,  8,  9, 10]])"
   ]
  },
  {
   "cell_type": "code",
   "execution_count": 59,
   "metadata": {
    "collapsed": false
   },
   "outputs": [
    {
     "data": {
      "text/plain": [
       "array([[ 1,  2,  3,  4,  5],\n",
       "       [ 6,  7,  8,  9, 10]])"
      ]
     },
     "execution_count": 59,
     "metadata": {},
     "output_type": "execute_result"
    }
   ],
   "source": [
    "n1"
   ]
  },
  {
   "cell_type": "code",
   "execution_count": 60,
   "metadata": {
    "collapsed": false
   },
   "outputs": [
    {
     "data": {
      "text/plain": [
       "(2L, 5L)"
      ]
     },
     "execution_count": 60,
     "metadata": {},
     "output_type": "execute_result"
    }
   ],
   "source": [
    "n1.shape"
   ]
  },
  {
   "cell_type": "code",
   "execution_count": 61,
   "metadata": {
    "collapsed": false
   },
   "outputs": [
    {
     "data": {
      "text/plain": [
       "2"
      ]
     },
     "execution_count": 61,
     "metadata": {},
     "output_type": "execute_result"
    }
   ],
   "source": [
    "n1.ndim"
   ]
  },
  {
   "cell_type": "code",
   "execution_count": 68,
   "metadata": {
    "collapsed": false
   },
   "outputs": [],
   "source": [
    "n2 = np.arange(20).reshape(2,5,2)"
   ]
  },
  {
   "cell_type": "code",
   "execution_count": 70,
   "metadata": {
    "collapsed": false
   },
   "outputs": [
    {
     "data": {
      "text/plain": [
       "array([[[ 0,  1],\n",
       "        [ 2,  3],\n",
       "        [ 4,  5],\n",
       "        [ 6,  7],\n",
       "        [ 8,  9]],\n",
       "\n",
       "       [[10, 11],\n",
       "        [12, 13],\n",
       "        [14, 15],\n",
       "        [16, 17],\n",
       "        [18, 19]]])"
      ]
     },
     "execution_count": 70,
     "metadata": {},
     "output_type": "execute_result"
    }
   ],
   "source": [
    "n2"
   ]
  },
  {
   "cell_type": "code",
   "execution_count": 69,
   "metadata": {
    "collapsed": false
   },
   "outputs": [
    {
     "data": {
      "text/plain": [
       "3"
      ]
     },
     "execution_count": 69,
     "metadata": {},
     "output_type": "execute_result"
    }
   ],
   "source": [
    "n2.ndim"
   ]
  },
  {
   "cell_type": "code",
   "execution_count": 71,
   "metadata": {
    "collapsed": false
   },
   "outputs": [
    {
     "data": {
      "text/plain": [
       "(2L, 5L, 2L)"
      ]
     },
     "execution_count": 71,
     "metadata": {},
     "output_type": "execute_result"
    }
   ],
   "source": [
    "n2.shape"
   ]
  },
  {
   "cell_type": "code",
   "execution_count": 63,
   "metadata": {
    "collapsed": false
   },
   "outputs": [
    {
     "data": {
      "text/plain": [
       "array([[ 0.,  0.,  0.,  0.],\n",
       "       [ 0.,  0.,  0.,  0.],\n",
       "       [ 0.,  0.,  0.,  0.]])"
      ]
     },
     "execution_count": 63,
     "metadata": {},
     "output_type": "execute_result"
    }
   ],
   "source": [
    "np.zeros((3,4))"
   ]
  },
  {
   "cell_type": "code",
   "execution_count": 65,
   "metadata": {
    "collapsed": false
   },
   "outputs": [
    {
     "data": {
      "text/plain": [
       "array([[0, 0, 0, 0],\n",
       "       [0, 0, 0, 0],\n",
       "       [0, 0, 0, 0]], dtype=int64)"
      ]
     },
     "execution_count": 65,
     "metadata": {},
     "output_type": "execute_result"
    }
   ],
   "source": [
    "np.zeros((3,4),dtype=np.int64)"
   ]
  },
  {
   "cell_type": "code",
   "execution_count": 89,
   "metadata": {
    "collapsed": false
   },
   "outputs": [
    {
     "data": {
      "text/plain": [
       "array([[ 0.69578794,  0.10619854,  0.64301902],\n",
       "       [ 0.18652955,  0.13607445,  0.15731804]])"
      ]
     },
     "execution_count": 89,
     "metadata": {},
     "output_type": "execute_result"
    }
   ],
   "source": [
    "np.random.random((2,3))"
   ]
  },
  {
   "cell_type": "code",
   "execution_count": 84,
   "metadata": {
    "collapsed": false
   },
   "outputs": [
    {
     "data": {
      "text/plain": [
       "array([8, 5, 1, 7, 1, 5, 3, 1, 6, 3])"
      ]
     },
     "execution_count": 84,
     "metadata": {},
     "output_type": "execute_result"
    }
   ],
   "source": [
    "np.random.randint(1,10,10)"
   ]
  },
  {
   "cell_type": "markdown",
   "metadata": {},
   "source": [
    "## Statistical Analysis"
   ]
  },
  {
   "cell_type": "code",
   "execution_count": 90,
   "metadata": {
    "collapsed": true
   },
   "outputs": [],
   "source": [
    "data = np.random.random((2,5))"
   ]
  },
  {
   "cell_type": "code",
   "execution_count": 92,
   "metadata": {
    "collapsed": false
   },
   "outputs": [
    {
     "data": {
      "text/plain": [
       "array([[ 0.77079378,  0.93286669,  0.86521158,  0.87656229,  0.2220714 ],\n",
       "       [ 0.18080466,  0.40697937,  0.52279211,  0.31461425,  0.45495006]])"
      ]
     },
     "execution_count": 92,
     "metadata": {},
     "output_type": "execute_result"
    }
   ],
   "source": [
    "data"
   ]
  },
  {
   "cell_type": "code",
   "execution_count": 91,
   "metadata": {
    "collapsed": false
   },
   "outputs": [
    {
     "data": {
      "text/plain": [
       "0.55476461791602738"
      ]
     },
     "execution_count": 91,
     "metadata": {},
     "output_type": "execute_result"
    }
   ],
   "source": [
    "np.mean(data)"
   ]
  },
  {
   "cell_type": "code",
   "execution_count": 93,
   "metadata": {
    "collapsed": false
   },
   "outputs": [
    {
     "data": {
      "text/plain": [
       "0.48887108342400359"
      ]
     },
     "execution_count": 93,
     "metadata": {},
     "output_type": "execute_result"
    }
   ],
   "source": [
    "np.median(data)"
   ]
  },
  {
   "cell_type": "code",
   "execution_count": 94,
   "metadata": {
    "collapsed": false
   },
   "outputs": [
    {
     "data": {
      "text/plain": [
       "0.93286668812005935"
      ]
     },
     "execution_count": 94,
     "metadata": {},
     "output_type": "execute_result"
    }
   ],
   "source": [
    "np.max(data)"
   ]
  },
  {
   "cell_type": "code",
   "execution_count": 98,
   "metadata": {
    "collapsed": false
   },
   "outputs": [
    {
     "data": {
      "text/plain": [
       "array([ 0.77079378,  0.93286669,  0.86521158,  0.87656229,  0.45495006])"
      ]
     },
     "execution_count": 98,
     "metadata": {},
     "output_type": "execute_result"
    }
   ],
   "source": [
    "np.max(data,axis=0)"
   ]
  },
  {
   "cell_type": "code",
   "execution_count": 101,
   "metadata": {
    "collapsed": false
   },
   "outputs": [
    {
     "data": {
      "text/plain": [
       "array([ 0.73350115,  0.37602809])"
      ]
     },
     "execution_count": 101,
     "metadata": {},
     "output_type": "execute_result"
    }
   ],
   "source": [
    "np.mean(data,axis=1)"
   ]
  },
  {
   "cell_type": "code",
   "execution_count": 102,
   "metadata": {
    "collapsed": false
   },
   "outputs": [
    {
     "data": {
      "text/plain": [
       "5.5476461791602736"
      ]
     },
     "execution_count": 102,
     "metadata": {},
     "output_type": "execute_result"
    }
   ],
   "source": [
    "np.sum(data)"
   ]
  },
  {
   "cell_type": "code",
   "execution_count": 103,
   "metadata": {
    "collapsed": false
   },
   "outputs": [
    {
     "data": {
      "text/plain": [
       "array([ 3.66750574,  1.88014044])"
      ]
     },
     "execution_count": 103,
     "metadata": {},
     "output_type": "execute_result"
    }
   ],
   "source": [
    "np.sum(data,axis=1)"
   ]
  },
  {
   "cell_type": "markdown",
   "metadata": {},
   "source": [
    "## Reshaping"
   ]
  },
  {
   "cell_type": "code",
   "execution_count": 104,
   "metadata": {
    "collapsed": false
   },
   "outputs": [
    {
     "data": {
      "text/plain": [
       "array([[ 0.77079378,  0.93286669,  0.86521158,  0.87656229,  0.2220714 ],\n",
       "       [ 0.18080466,  0.40697937,  0.52279211,  0.31461425,  0.45495006]])"
      ]
     },
     "execution_count": 104,
     "metadata": {},
     "output_type": "execute_result"
    }
   ],
   "source": [
    "data"
   ]
  },
  {
   "cell_type": "code",
   "execution_count": 105,
   "metadata": {
    "collapsed": false
   },
   "outputs": [
    {
     "data": {
      "text/plain": [
       "array([[ 0.77079378,  0.93286669],\n",
       "       [ 0.86521158,  0.87656229],\n",
       "       [ 0.2220714 ,  0.18080466],\n",
       "       [ 0.40697937,  0.52279211],\n",
       "       [ 0.31461425,  0.45495006]])"
      ]
     },
     "execution_count": 105,
     "metadata": {},
     "output_type": "execute_result"
    }
   ],
   "source": [
    "data.reshape(5,2)"
   ]
  },
  {
   "cell_type": "code",
   "execution_count": 107,
   "metadata": {
    "collapsed": false
   },
   "outputs": [
    {
     "data": {
      "text/plain": [
       "array([ 0.77079378,  0.93286669,  0.86521158,  0.87656229,  0.2220714 ,\n",
       "        0.18080466,  0.40697937,  0.52279211,  0.31461425,  0.45495006])"
      ]
     },
     "execution_count": 107,
     "metadata": {},
     "output_type": "execute_result"
    }
   ],
   "source": [
    "data.reshape(10)"
   ]
  },
  {
   "cell_type": "markdown",
   "metadata": {},
   "source": [
    "## Slicing"
   ]
  },
  {
   "cell_type": "code",
   "execution_count": 108,
   "metadata": {
    "collapsed": true
   },
   "outputs": [],
   "source": [
    "data = np.random.random((5,10))"
   ]
  },
  {
   "cell_type": "code",
   "execution_count": 109,
   "metadata": {
    "collapsed": false
   },
   "outputs": [
    {
     "data": {
      "text/plain": [
       "array([[ 0.13295639,  0.83489586,  0.30410635,  0.33849674,  0.24317466,\n",
       "         0.30903552,  0.53463323,  0.44749794,  0.07726832,  0.92719497],\n",
       "       [ 0.47570438,  0.56296737,  0.63244374,  0.82045597,  0.70294111,\n",
       "         0.66016042,  0.06622042,  0.25261891,  0.56799787,  0.56091985],\n",
       "       [ 0.2578397 ,  0.96231827,  0.91126002,  0.9978842 ,  0.53819662,\n",
       "         0.07539842,  0.95587989,  0.80151814,  0.39898647,  0.42320694],\n",
       "       [ 0.52078628,  0.04708935,  0.46897205,  0.73224375,  0.41468387,\n",
       "         0.82681351,  0.75840524,  0.23188851,  0.21611569,  0.60969979],\n",
       "       [ 0.10163661,  0.66117288,  0.46944385,  0.15507902,  0.07398744,\n",
       "         0.05100823,  0.45789911,  0.56537998,  0.98166779,  0.90600935]])"
      ]
     },
     "execution_count": 109,
     "metadata": {},
     "output_type": "execute_result"
    }
   ],
   "source": [
    "data"
   ]
  },
  {
   "cell_type": "code",
   "execution_count": 110,
   "metadata": {
    "collapsed": false
   },
   "outputs": [
    {
     "data": {
      "text/plain": [
       "array([ 0.13295639,  0.83489586,  0.30410635,  0.33849674,  0.24317466,\n",
       "        0.30903552,  0.53463323,  0.44749794,  0.07726832,  0.92719497])"
      ]
     },
     "execution_count": 110,
     "metadata": {},
     "output_type": "execute_result"
    }
   ],
   "source": [
    "data[0]"
   ]
  },
  {
   "cell_type": "code",
   "execution_count": 111,
   "metadata": {
    "collapsed": false
   },
   "outputs": [
    {
     "data": {
      "text/plain": [
       "array([ 0.47570438,  0.56296737,  0.63244374,  0.82045597,  0.70294111,\n",
       "        0.66016042,  0.06622042,  0.25261891,  0.56799787,  0.56091985])"
      ]
     },
     "execution_count": 111,
     "metadata": {},
     "output_type": "execute_result"
    }
   ],
   "source": [
    "data[1]"
   ]
  },
  {
   "cell_type": "code",
   "execution_count": 112,
   "metadata": {
    "collapsed": false
   },
   "outputs": [
    {
     "data": {
      "text/plain": [
       "0.56296736551130377"
      ]
     },
     "execution_count": 112,
     "metadata": {},
     "output_type": "execute_result"
    }
   ],
   "source": [
    "data[1][1]"
   ]
  },
  {
   "cell_type": "code",
   "execution_count": 114,
   "metadata": {
    "collapsed": false
   },
   "outputs": [
    {
     "data": {
      "text/plain": [
       "0.56296736551130377"
      ]
     },
     "execution_count": 114,
     "metadata": {},
     "output_type": "execute_result"
    }
   ],
   "source": [
    "data[1,1]"
   ]
  },
  {
   "cell_type": "code",
   "execution_count": 117,
   "metadata": {
    "collapsed": false
   },
   "outputs": [
    {
     "data": {
      "text/plain": [
       "array([ 0.63244374,  0.82045597,  0.70294111])"
      ]
     },
     "execution_count": 117,
     "metadata": {},
     "output_type": "execute_result"
    }
   ],
   "source": [
    "data[1,2:5]"
   ]
  },
  {
   "cell_type": "markdown",
   "metadata": {},
   "source": [
    "## plotting"
   ]
  },
  {
   "cell_type": "code",
   "execution_count": 120,
   "metadata": {
    "collapsed": true
   },
   "outputs": [],
   "source": [
    "import matplotlib.pyplot as plt\n",
    "%matplotlib inline"
   ]
  },
  {
   "cell_type": "code",
   "execution_count": 127,
   "metadata": {
    "collapsed": false
   },
   "outputs": [
    {
     "data": {
      "text/plain": [
       "[<matplotlib.lines.Line2D at 0x17dd54a8>]"
      ]
     },
     "execution_count": 127,
     "metadata": {},
     "output_type": "execute_result"
    },
    {
     "data": {
      "image/png": "[encoded data removed]",
      "text/plain": [
       "<matplotlib.figure.Figure at 0x150a8978>"
      ]
     },
     "metadata": {},
     "output_type": "display_data"
    }
   ],
   "source": [
    "plt.plot(data[1])"
   ]
  },
  {
   "cell_type": "code",
   "execution_count": 124,
   "metadata": {
    "collapsed": false
   },
   "outputs": [
    {
     "data": {
      "text/plain": [
       "<matplotlib.collections.PathCollection at 0x14688710>"
      ]
     },
     "execution_count": 124,
     "metadata": {},
     "output_type": "execute_result"
    },
    {
     "data": {
      "image/png": "[encoded data removed]",
      "text/plain": [
       "<matplotlib.figure.Figure at 0x1280f9b0>"
      ]
     },
     "metadata": {},
     "output_type": "display_data"
    }
   ],
   "source": [
    "plt.scatter(data[0],data[1])"
   ]
  },
  {
   "cell_type": "code",
   "execution_count": 128,
   "metadata": {
    "collapsed": false
   },
   "outputs": [
    {
     "data": {
      "image/png": "[encoded data removed]",
      "text/plain": [
       "<matplotlib.figure.Figure at 0x12890240>"
      ]
     },
     "metadata": {},
     "output_type": "display_data"
    }
   ],
   "source": [
    "# Create sample data, add some noise\n",
    "x = np.random.uniform(1, 100, 1000)\n",
    "y = np.log(x) + np.random.normal(0, .3, 1000)\n",
    "\n",
    "plt.scatter(x, y)\n",
    "plt.show()"
   ]
  },
  {
   "cell_type": "code",
   "execution_count": null,
   "metadata": {
    "collapsed": true
   },
   "outputs": [],
   "source": []
  }
 ],
 "metadata": {
  "kernelspec": {
   "display_name": "Python 2",
   "language": "python",
   "name": "python2"
  },
  "language_info": {
   "codemirror_mode": {
    "name": "ipython",
    "version": 2
   },
   "file_extension": ".py",
   "mimetype": "text/x-python",
   "name": "python",
   "nbconvert_exporter": "python",
   "pygments_lexer": "ipython2",
   "version": "2.7.11"
  }
 },
 "nbformat": 4,
 "nbformat_minor": 0
}
